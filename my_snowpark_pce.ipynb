{
 "cells": [
  {
   "cell_type": "code",
   "execution_count": null,
   "metadata": {},
   "outputs": [],
   "source": [
    "#Optional step to delete session if you get an error that multiple sessions are open\n",
    "del session"
   ]
  },
  {
   "cell_type": "markdown",
   "metadata": {},
   "source": [
    "# Initialize Notebook, import libraries and create Snowflake connection"
   ]
  },
  {
   "cell_type": "code",
   "execution_count": null,
   "metadata": {},
   "outputs": [],
   "source": [
    "from snowflake.snowpark.session import Session\n",
    "from snowflake.snowpark.types import IntegerType, FloatType\n",
    "from snowflake.snowpark.functions import avg, sum, col, udf, call_udf, call_builtin, year\n",
    "import streamlit as st\n",
    "import pandas as pd\n",
    "from datetime import date\n",
    "\n",
    "# scikit-learn (install: pip install -U scikit-learn)\n",
    "from sklearn.linear_model import LinearRegression\n",
    "\n",
    "# Session\n",
    "connection_parameters = {\n",
    "   \"account\": \"<account_identifier>\",\n",
    "   \"user\": \"<username>\",\n",
    "   \"password\": \"<password>\",\n",
    "   \"warehouse\": \"compute_wh\",\n",
    "   \"role\": \"accountadmin\",\n",
    "   \"database\": \"summit_hol\",\n",
    "   \"schema\": \"public\"\n",
    "}\n",
    "session = Session.builder.configs(connection_parameters).create()\n",
    "\n",
    "\n",
    "# test if we have a connection\n",
    "session.sql(\"select current_warehouse() wh, current_database() db, current_schema() schema, current_version() v\").show()\n"
   ]
  },
  {
   "cell_type": "markdown",
   "metadata": {},
   "source": [
    "# Query the data"
   ]
  },
  {
   "cell_type": "code",
   "execution_count": null,
   "metadata": {},
   "outputs": [],
   "source": [
    "# SQL query to explore the data\n",
    "session.sql(\"SELECT * FROM ECONOMY_DATA_ATLAS.ECONOMY.BEANIPA WHERE \\\"Table Name\\\" = 'Price Indexes For Personal Consumption Expenditures By Major Type Of Product' AND \\\"Indicator Name\\\" = 'Personal consumption expenditures (PCE)' AND \\\"Frequency\\\" = 'A' ORDER BY \\\"Date\\\"\").show()"
   ]
  },
  {
   "cell_type": "code",
   "execution_count": null,
   "metadata": {},
   "outputs": [],
   "source": [
    "# Now use Snowpark dataframe\n",
    "snow_df_pce = (session.table(\"ECONOMY_DATA_ATLAS.ECONOMY.BEANIPA\") \n",
    "                            .filter(col('Table Name') == 'Price Indexes For Personal Consumption Expenditures By Major Type Of Product') \n",
    "                            .filter(col('Indicator Name') == 'Personal consumption expenditures (PCE)')\n",
    "                            .filter(col('\"Frequency\"') == 'A')\n",
    "                            .filter(col('\"Date\"') >= '1972-01-01'))\n",
    "snow_df_pce.show()"
   ]
  },
  {
   "cell_type": "code",
   "execution_count": null,
   "metadata": {},
   "outputs": [],
   "source": [
    "# Let Snowflake perform filtering using the Snowpark pushdown and display results in a Pandas dataframe\n",
    "snow_df_pce = (session.table(\"ECONOMY_DATA_ATLAS.ECONOMY.BEANIPA\")\n",
    "                        .filter(col('\"Table Name\"') == 'Price Indexes For Personal Consumption Expenditures By Major Type Of Product')\n",
    "                        .filter(col('\"Indicator Name\"') == 'Personal consumption expenditures (PCE)')\n",
    "                        .filter(col('\"Frequency\"') == 'A')\n",
    "                        .filter(col('\"Date\"') >= '1972-01-01'))\n",
    "pd_df_pce_year = snow_df_pce.select(year(col('\"Date\"')).alias('\"Year\"'), col('\"Value\"').alias('PCE') ).to_pandas()\n",
    "pd_df_pce_year\n"
   ]
  },
  {
   "cell_type": "markdown",
   "metadata": {},
   "source": [
    "# Train the Linear Regression model"
   ]
  },
  {
   "cell_type": "code",
   "execution_count": null,
   "metadata": {},
   "outputs": [],
   "source": [
    "# train model with PCE index\n",
    "\n",
    "x = pd_df_pce_year[\"Year\"].to_numpy().reshape(-1,1)\n",
    "y = pd_df_pce_year[\"PCE\"].to_numpy()\n",
    "\n",
    "model = LinearRegression().fit(x, y)\n",
    "\n",
    "# test model for 2022\n",
    "predictYear = 2022\n",
    "pce_pred = model.predict([[predictYear]])\n",
    "# print the last 5 years\n",
    "print (pd_df_pce_year.tail() )\n",
    "# run the prediction for 2022\n",
    "print ('Prediction for '+str(predictYear)+': '+ str(round(pce_pred[0],2)))\n"
   ]
  },
  {
   "cell_type": "markdown",
   "metadata": {},
   "source": [
    "### Creating a User Defined Function within Snowflake to do the scoring there"
   ]
  },
  {
   "cell_type": "code",
   "execution_count": null,
   "metadata": {},
   "outputs": [],
   "source": [
    "def predict_pce(predictYear: int) -> float:\n",
    "    return model.predict([[predictYear]])[0].round(2).astype(float)\n",
    "\n",
    "_ = session.udf.register(predict_pce,\n",
    "                        return_type=FloatType(),\n",
    "                        input_type=IntegerType(),\n",
    "                        packages= [\"pandas\",\"scikit-learn\"],\n",
    "                        is_permanent=True, \n",
    "                        name=\"predict_pce_udf\", \n",
    "                        replace=True,\n",
    "                        stage_location=\"@udf_stage\")"
   ]
  },
  {
   "cell_type": "markdown",
   "metadata": {},
   "source": [
    "# Test the trained model by invoking the UDF via a SQL statement"
   ]
  },
  {
   "cell_type": "code",
   "execution_count": null,
   "metadata": {},
   "outputs": [],
   "source": [
    "session.sql(\"select predict_pce_udf(2022)\").show()\n"
   ]
  }
 ],
 "metadata": {
  "interpreter": {
   "hash": "5b98838a36a1bf359ee115d54329302090fcdf6f49377588f49b385a9a18b1c4"
  },
  "kernelspec": {
   "display_name": "Python 3.8.13 ('snowpark')",
   "language": "python",
   "name": "python3"
  },
  "language_info": {
   "codemirror_mode": {
    "name": "ipython",
    "version": 3
   },
   "file_extension": ".py",
   "mimetype": "text/x-python",
   "name": "python",
   "nbconvert_exporter": "python",
   "pygments_lexer": "ipython3",
   "version": "3.8.13"
  },
  "orig_nbformat": 4
 },
 "nbformat": 4,
 "nbformat_minor": 2
}
